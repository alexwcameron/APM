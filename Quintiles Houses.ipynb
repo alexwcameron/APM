{
 "cells": [
  {
   "cell_type": "code",
   "execution_count": 1,
   "metadata": {},
   "outputs": [],
   "source": [
    "import numpy as np\n",
    "import pandas as pd\n",
    "import seaborn as sns\n",
    "import matplotlib.pyplot as plt\n",
    "from scipy import stats\n",
    "sns.set(color_codes=True)\n",
    "%matplotlib inline"
   ]
  },
  {
   "cell_type": "code",
   "execution_count": 2,
   "metadata": {},
   "outputs": [],
   "source": [
    "Sales = pd.read_csv(\"Sales_06_11.csv\")"
   ]
  },
  {
   "cell_type": "code",
   "execution_count": 3,
   "metadata": {},
   "outputs": [
    {
     "data": {
      "text/html": [
       "<div>\n",
       "<style scoped>\n",
       "    .dataframe tbody tr th:only-of-type {\n",
       "        vertical-align: middle;\n",
       "    }\n",
       "\n",
       "    .dataframe tbody tr th {\n",
       "        vertical-align: top;\n",
       "    }\n",
       "\n",
       "    .dataframe thead th {\n",
       "        text-align: right;\n",
       "    }\n",
       "</style>\n",
       "<table border=\"1\" class=\"dataframe\">\n",
       "  <thead>\n",
       "    <tr style=\"text-align: right;\">\n",
       "      <th></th>\n",
       "      <th>Unnamed: 0</th>\n",
       "      <th>AddressID</th>\n",
       "      <th>PropertyCategorisation</th>\n",
       "      <th>Suburb</th>\n",
       "      <th>Property_Latitude</th>\n",
       "      <th>Property_Longitude</th>\n",
       "      <th>AreaSize</th>\n",
       "      <th>Baths</th>\n",
       "      <th>Bedrooms</th>\n",
       "      <th>EventPrice</th>\n",
       "      <th>EventDate</th>\n",
       "      <th>Bought</th>\n",
       "      <th>Returns</th>\n",
       "      <th>Distance</th>\n",
       "    </tr>\n",
       "  </thead>\n",
       "  <tbody>\n",
       "    <tr>\n",
       "      <th>0</th>\n",
       "      <td>1122969</td>\n",
       "      <td>5805794</td>\n",
       "      <td>Unit</td>\n",
       "      <td>Cronulla</td>\n",
       "      <td>-34.04464</td>\n",
       "      <td>151.1550</td>\n",
       "      <td>1431.0</td>\n",
       "      <td>1.0</td>\n",
       "      <td>1.0</td>\n",
       "      <td>365000.0</td>\n",
       "      <td>2011-06-01</td>\n",
       "      <td>280000.0</td>\n",
       "      <td>0.303571</td>\n",
       "      <td>20.197344</td>\n",
       "    </tr>\n",
       "    <tr>\n",
       "      <th>1</th>\n",
       "      <td>1122980</td>\n",
       "      <td>49656532</td>\n",
       "      <td>Unit</td>\n",
       "      <td>Westmead</td>\n",
       "      <td>-33.80820</td>\n",
       "      <td>150.9898</td>\n",
       "      <td>988.0</td>\n",
       "      <td>1.0</td>\n",
       "      <td>2.0</td>\n",
       "      <td>322500.0</td>\n",
       "      <td>2011-11-01</td>\n",
       "      <td>268000.0</td>\n",
       "      <td>0.203358</td>\n",
       "      <td>21.192868</td>\n",
       "    </tr>\n",
       "    <tr>\n",
       "      <th>2</th>\n",
       "      <td>1123068</td>\n",
       "      <td>7070755</td>\n",
       "      <td>House</td>\n",
       "      <td>Hamilton North</td>\n",
       "      <td>-32.91345</td>\n",
       "      <td>151.7333</td>\n",
       "      <td>358.0</td>\n",
       "      <td>1.0</td>\n",
       "      <td>3.0</td>\n",
       "      <td>365000.0</td>\n",
       "      <td>2011-01-13</td>\n",
       "      <td>260000.0</td>\n",
       "      <td>0.403846</td>\n",
       "      <td>116.617826</td>\n",
       "    </tr>\n",
       "    <tr>\n",
       "      <th>3</th>\n",
       "      <td>1123088</td>\n",
       "      <td>4864807</td>\n",
       "      <td>House</td>\n",
       "      <td>Kings Langley</td>\n",
       "      <td>-33.75395</td>\n",
       "      <td>150.9358</td>\n",
       "      <td>697.0</td>\n",
       "      <td>2.0</td>\n",
       "      <td>4.0</td>\n",
       "      <td>468000.0</td>\n",
       "      <td>2011-01-13</td>\n",
       "      <td>390000.0</td>\n",
       "      <td>0.200000</td>\n",
       "      <td>28.135681</td>\n",
       "    </tr>\n",
       "    <tr>\n",
       "      <th>4</th>\n",
       "      <td>1123089</td>\n",
       "      <td>3589368</td>\n",
       "      <td>House</td>\n",
       "      <td>Beverly Hills</td>\n",
       "      <td>-33.95205</td>\n",
       "      <td>151.0883</td>\n",
       "      <td>512.0</td>\n",
       "      <td>1.0</td>\n",
       "      <td>3.0</td>\n",
       "      <td>585000.0</td>\n",
       "      <td>2011-01-13</td>\n",
       "      <td>490000.0</td>\n",
       "      <td>0.193878</td>\n",
       "      <td>14.435572</td>\n",
       "    </tr>\n",
       "  </tbody>\n",
       "</table>\n",
       "</div>"
      ],
      "text/plain": [
       "   Unnamed: 0  AddressID PropertyCategorisation          Suburb  \\\n",
       "0     1122969    5805794                   Unit        Cronulla   \n",
       "1     1122980   49656532                   Unit        Westmead   \n",
       "2     1123068    7070755                  House  Hamilton North   \n",
       "3     1123088    4864807                  House   Kings Langley   \n",
       "4     1123089    3589368                  House   Beverly Hills   \n",
       "\n",
       "   Property_Latitude  Property_Longitude  AreaSize  Baths  Bedrooms  \\\n",
       "0          -34.04464            151.1550    1431.0    1.0       1.0   \n",
       "1          -33.80820            150.9898     988.0    1.0       2.0   \n",
       "2          -32.91345            151.7333     358.0    1.0       3.0   \n",
       "3          -33.75395            150.9358     697.0    2.0       4.0   \n",
       "4          -33.95205            151.0883     512.0    1.0       3.0   \n",
       "\n",
       "   EventPrice   EventDate    Bought   Returns    Distance  \n",
       "0    365000.0  2011-06-01  280000.0  0.303571   20.197344  \n",
       "1    322500.0  2011-11-01  268000.0  0.203358   21.192868  \n",
       "2    365000.0  2011-01-13  260000.0  0.403846  116.617826  \n",
       "3    468000.0  2011-01-13  390000.0  0.200000   28.135681  \n",
       "4    585000.0  2011-01-13  490000.0  0.193878   14.435572  "
      ]
     },
     "execution_count": 3,
     "metadata": {},
     "output_type": "execute_result"
    }
   ],
   "source": [
    "Sales.head()"
   ]
  },
  {
   "cell_type": "code",
   "execution_count": 4,
   "metadata": {},
   "outputs": [],
   "source": [
    "#Choose the border in km from Sydney CBD\n",
    "km = 50\n",
    "Sydney = Sales[Sales.Distance < km]"
   ]
  },
  {
   "cell_type": "code",
   "execution_count": 5,
   "metadata": {},
   "outputs": [],
   "source": [
    "Sydney = Sydney[Sydney.PropertyCategorisation == \"House\"]"
   ]
  },
  {
   "cell_type": "code",
   "execution_count": 6,
   "metadata": {},
   "outputs": [],
   "source": [
    "#number of quintiles\n",
    "num = 30"
   ]
  },
  {
   "cell_type": "code",
   "execution_count": 7,
   "metadata": {},
   "outputs": [
    {
     "data": {
      "text/plain": [
       "<matplotlib.axes._subplots.AxesSubplot at 0x122d93090>"
      ]
     },
     "execution_count": 7,
     "metadata": {},
     "output_type": "execute_result"
    },
    {
     "data": {
      "image/png": "[encoded data removed]",
      "text/plain": [
       "<Figure size 432x288 with 1 Axes>"
      ]
     },
     "metadata": {
      "needs_background": "light"
     },
     "output_type": "display_data"
    }
   ],
   "source": [
    "bins = np.linspace(np.min(Sydney.Distance), np.max(Sydney.Distance), num+1)\n",
    "bins = np.linspace(np.min(Sydney.Distance), np.max(Sydney.Distance), num+1)\n",
    "Distance = pd.DataFrame(columns = ['Distance', 'Quantile', 'Returns'])\n",
    "Quantiles = pd.cut(Sydney.Distance, bins=bins, labels=np.linspace(1,num,num))\n",
    "Distance_quantiles = pd.DataFrame()\n",
    "Distance_quantiles['Returns'] = Sydney.Returns\n",
    "Distance_quantiles['Distance'] = Sydney.Distance\n",
    "Distance_quantiles['Quantiles'] = Quantiles\n",
    "Dist = Distance_quantiles.groupby(['Quantiles']).mean()\n",
    "sns.scatterplot(x=\"Distance\", y=\"Returns\", data=Dist)"
   ]
  },
  {
   "cell_type": "code",
   "execution_count": 8,
   "metadata": {},
   "outputs": [
    {
     "data": {
      "text/plain": [
       "<matplotlib.axes._subplots.AxesSubplot at 0x124e41390>"
      ]
     },
     "execution_count": 8,
     "metadata": {},
     "output_type": "execute_result"
    },
    {
     "data": {
      "image/png": "[encoded data removed]",
      "text/plain": [
       "<Figure size 432x288 with 1 Axes>"
      ]
     },
     "metadata": {
      "needs_background": "light"
     },
     "output_type": "display_data"
    }
   ],
   "source": [
    "bins = np.linspace(np.min(Sydney.Bought), np.max(Sydney.Bought), num+1)\n",
    "bins = np.linspace(np.min(Sydney.Bought), np.max(Sydney.Bought), num+1)\n",
    "Bought = pd.DataFrame(columns = ['Bought', 'Quantile', 'Returns'])\n",
    "Quantiles = pd.cut(Sydney.Bought, bins=bins, labels=np.linspace(1,num,num))\n",
    "Bought_quantiles = pd.DataFrame()\n",
    "Bought_quantiles['Returns'] = Sydney.Returns\n",
    "Bought_quantiles['Bought'] = Sydney.Bought\n",
    "Bought_quantiles['Quantiles'] = Quantiles\n",
    "Dist = Bought_quantiles.groupby(['Quantiles']).mean()\n",
    "sns.scatterplot(x=\"Bought\", y=\"Returns\", data=Dist)"
   ]
  },
  {
   "cell_type": "code",
   "execution_count": 9,
   "metadata": {},
   "outputs": [
    {
     "data": {
      "text/plain": [
       "<matplotlib.axes._subplots.AxesSubplot at 0x124ddf990>"
      ]
     },
     "execution_count": 9,
     "metadata": {},
     "output_type": "execute_result"
    },
    {
     "data": {
      "image/png": "[encoded data removed]",
      "text/plain": [
       "<Figure size 432x288 with 1 Axes>"
      ]
     },
     "metadata": {
      "needs_background": "light"
     },
     "output_type": "display_data"
    }
   ],
   "source": [
    "bins = np.linspace(np.min(Sydney.AreaSize), np.max(Sydney.AreaSize), num+1)\n",
    "bins = np.linspace(np.min(Sydney.AreaSize), np.max(Sydney.AreaSize), num+1)\n",
    "AreaSize = pd.DataFrame(columns = ['AreaSize', 'Quantile', 'Returns'])\n",
    "Quantiles = pd.cut(Sydney.AreaSize, bins=bins, labels=np.linspace(1,num,num))\n",
    "AreaSize_quantiles = pd.DataFrame()\n",
    "AreaSize_quantiles['Returns'] = Sydney.Returns\n",
    "AreaSize_quantiles['AreaSize'] = Sydney.AreaSize\n",
    "AreaSize_quantiles['Quantiles'] = Quantiles\n",
    "Dist = AreaSize_quantiles.groupby(['Quantiles']).mean()\n",
    "sns.scatterplot(x=\"AreaSize\", y=\"Returns\", data=Dist)"
   ]
  },
  {
   "cell_type": "code",
   "execution_count": 10,
   "metadata": {},
   "outputs": [
    {
     "data": {
      "text/plain": [
       "<matplotlib.axes._subplots.AxesSubplot at 0x124fbbe50>"
      ]
     },
     "execution_count": 10,
     "metadata": {},
     "output_type": "execute_result"
    },
    {
     "data": {
      "image/png": "[encoded data removed]",
      "text/plain": [
       "<Figure size 432x288 with 1 Axes>"
      ]
     },
     "metadata": {
      "needs_background": "light"
     },
     "output_type": "display_data"
    }
   ],
   "source": [
    "bins = np.linspace(np.min(Sydney.Property_Latitude), np.max(Sydney.Property_Latitude), num+1)\n",
    "bins = np.linspace(np.min(Sydney.Property_Latitude), np.max(Sydney.Property_Latitude), num+1)\n",
    "Property_Latitude = pd.DataFrame(columns = ['Property_Latitude', 'Quantile', 'Returns'])\n",
    "Quantiles = pd.cut(Sydney.Property_Latitude, bins=bins, labels=np.linspace(1,num,num))\n",
    "Property_Latitude_quantiles = pd.DataFrame()\n",
    "Property_Latitude_quantiles['Returns'] = Sydney.Returns\n",
    "Property_Latitude_quantiles['Property_Latitude'] = Sydney.Property_Latitude\n",
    "Property_Latitude_quantiles['Quantiles'] = Quantiles\n",
    "Dist = Property_Latitude_quantiles.groupby(['Quantiles']).mean()\n",
    "sns.scatterplot(x=\"Property_Latitude\", y=\"Returns\", data=Dist)"
   ]
  },
  {
   "cell_type": "code",
   "execution_count": 11,
   "metadata": {},
   "outputs": [
    {
     "data": {
      "text/plain": [
       "<matplotlib.axes._subplots.AxesSubplot at 0x12509a090>"
      ]
     },
     "execution_count": 11,
     "metadata": {},
     "output_type": "execute_result"
    },
    {
     "data": {
      "image/png": "[encoded data removed]",
      "text/plain": [
       "<Figure size 432x288 with 1 Axes>"
      ]
     },
     "metadata": {
      "needs_background": "light"
     },
     "output_type": "display_data"
    }
   ],
   "source": [
    "bins = np.linspace(np.min(Sydney.Property_Longitude), np.max(Sydney.Property_Longitude), num+1)\n",
    "bins = np.linspace(np.min(Sydney.Property_Longitude), np.max(Sydney.Property_Longitude), num+1)\n",
    "Property_Longitude = pd.DataFrame(columns = ['Property_Longitude', 'Quantile', 'Returns'])\n",
    "Quantiles = pd.cut(Sydney.Property_Longitude, bins=bins, labels=np.linspace(1,num,num))\n",
    "Property_Longitude_quantiles = pd.DataFrame()\n",
    "Property_Longitude_quantiles['Returns'] = Sydney.Returns\n",
    "Property_Longitude_quantiles['Property_Longitude'] = Sydney.Property_Longitude\n",
    "Property_Longitude_quantiles['Quantiles'] = Quantiles\n",
    "Dist = Property_Longitude_quantiles.groupby(['Quantiles']).mean()\n",
    "sns.scatterplot(x=\"Property_Longitude\", y=\"Returns\", data=Dist)"
   ]
  },
  {
   "cell_type": "code",
   "execution_count": null,
   "metadata": {},
   "outputs": [],
   "source": []
  }
 ],
 "metadata": {
  "kernelspec": {
   "display_name": "Python 3",
   "language": "python",
   "name": "python3"
  },
  "language_info": {
   "codemirror_mode": {
    "name": "ipython",
    "version": 3
   },
   "file_extension": ".py",
   "mimetype": "text/x-python",
   "name": "python",
   "nbconvert_exporter": "python",
   "pygments_lexer": "ipython3",
   "version": "3.7.4"
  }
 },
 "nbformat": 4,
 "nbformat_minor": 2
}
